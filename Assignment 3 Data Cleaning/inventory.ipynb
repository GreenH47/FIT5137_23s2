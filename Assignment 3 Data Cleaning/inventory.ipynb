{
 "cells": [
  {
   "cell_type": "markdown",
   "metadata": {},
   "source": [
    "# data cleaning for the inventory.csv"
   ]
  },
  {
   "cell_type": "code",
   "execution_count": 7,
   "metadata": {},
   "outputs": [],
   "source": [
    "import pandas as pd\n",
    "file_path = 'rawdata/inventory.csv'\n",
    "# Load CSV file into a pandas DataFrame\n",
    "df = pd.read_csv(file_path, delimiter=',', encoding='utf-8')"
   ]
  },
  {
   "cell_type": "markdown",
   "metadata": {},
   "source": [
    "it means the inventory.csv is formatted .\n",
    "## check data consistance inside the table"
   ]
  },
  {
   "cell_type": "code",
   "execution_count": 8,
   "metadata": {},
   "outputs": [
    {
     "name": "stdout",
     "output_type": "stream",
     "text": [
      "articleCode,barcode,sizes,CurrentBasePrice,CurrentSalePrice,consignment,consignmentRp,qty,status\n",
      "\n",
      "16FBLO-U1114005,00BLPF1083,ALL,73500,105000,0,31500,3,1\n",
      "\n",
      "Row 23573 has  8 of columns instead of 9\n",
      "BSC.AR-QL0010,00ARQL0067,M,94500,135000,0,40500,0\n",
      "\n",
      "Writing 34010 line in correct file\n",
      "Writing 2 line in incorrect file\n"
     ]
    }
   ],
   "source": [
    "file_path = 'rawdata/inventory.csv'\n",
    "# check if every row has same number of columns\n",
    "with open(file_path, 'r') as f:\n",
    "    lines = f.readlines()\n",
    "\n",
    "# Get the number of columns in the header\n",
    "header_columns = len(lines[0].split(','))\n",
    "print(lines[0])\n",
    "print(lines[1])\n",
    "\n",
    "# Separate the lines into correct and incorrect lines\n",
    "correct_lines = []\n",
    "incorrect_lines = []\n",
    "incorrect_lines.append(lines[0])\n",
    "\n",
    "\n",
    "# Check each line\n",
    "for i, line in enumerate(lines):\n",
    "    num_columns = len(line.split(','))\n",
    "    if num_columns != header_columns:\n",
    "        print(f'Row {i} has  {num_columns} of columns instead of {header_columns}')\n",
    "        incorrect_lines.append(line)\n",
    "        print(line)\n",
    "    else:\n",
    "        correct_lines.append(line)\n",
    "\n",
    "# Write the correct lines to a new file\n",
    "correct_file_path = 'format_data/inventory_final.csv'\n",
    "with open(correct_file_path, 'w') as f:\n",
    "    # print how many lines are written\n",
    "    print(f'Writing {len(correct_lines)} line in correct file')\n",
    "    f.writelines(correct_lines)\n",
    "\n",
    "# Write the incorrect lines to a new file\n",
    "incorrect_file_path = 'format_data/inventory-incorrect-lines.csv'\n",
    "with open(incorrect_file_path, 'w') as f:\n",
    "    # print how many lines are written\n",
    "    print(f'Writing {len(incorrect_lines)} line in incorrect file')\n",
    "    f.writelines(incorrect_lines)\n",
    "\n"
   ]
  },
  {
   "cell_type": "markdown",
   "metadata": {},
   "source": [
    "this one line all missing one value so we just delete them.  \n",
    "## check depulicant/invalid value"
   ]
  },
  {
   "cell_type": "code",
   "execution_count": 9,
   "metadata": {},
   "outputs": [
    {
     "name": "stdout",
     "output_type": "stream",
     "text": [
      "         articleCode     barcode sizes  CurrentBasePrice  CurrentSalePrice  \\\n",
      "98        AGA-PI0020  2016I00080    XL            130000            200000   \n",
      "14946   AR.REC-RJ002  20ARRJ0367    32            237250            365000   \n",
      "29488  ESH.AR-SE0006  00ARSE0021     S             44000            135000   \n",
      "\n",
      "       consignment  consignmentRp  qty  status  \n",
      "98              30        70000.0    0     NaN  \n",
      "14946            0       127750.0    0     NaN  \n",
      "29488            0        40500.0    3     NaN  \n"
     ]
    }
   ],
   "source": [
    "import pandas as pd\n",
    "# Load the CSV file into a pandas DataFrame\n",
    "correct_file_path = 'format_data/inventory_final.csv'\n",
    "df = pd.read_csv(correct_file_path, delimiter=',', encoding='utf-8')\n",
    "\n",
    "# check if there are any null values rows\n",
    "null_data = df[df.isnull().any(axis=1)]\n",
    "print(null_data)\n",
    "\n",
    "# Drop rows with null values\n",
    "df = df.dropna()\n",
    "\n",
    "# Save the modified DataFrame back to the original file\n",
    "df.to_csv(correct_file_path, index=False)"
   ]
  },
  {
   "cell_type": "code",
   "execution_count": 10,
   "metadata": {},
   "outputs": [
    {
     "name": "stdout",
     "output_type": "stream",
     "text": [
      "CurrentBasePrice:\n",
      " Min value: 8000, Max value: 6800000\n",
      "CurrentSalePrice:\n",
      " Min value: 10000, Max value: 8500000\n",
      "consignment:\n",
      " Min value: 0, Max value: 30\n",
      "consignmentRp:\n",
      " Min value: 0.0, Max value: 1700000.0\n",
      "qty:\n",
      " Min value: 0, Max value: 58\n",
      "status:\n",
      " Min value: 0.0, Max value: 1.0\n"
     ]
    }
   ],
   "source": [
    "import pandas as pd\n",
    "\n",
    "def show_min_max(df):\n",
    "    # Iterate over each column in the DataFrame\n",
    "    for column in df.columns:\n",
    "        # Check if the column contains numerical values\n",
    "        if pd.api.types.is_numeric_dtype(df[column]):\n",
    "            # Find the minimum and maximum values in the column\n",
    "            min_val = df[column].min()\n",
    "            max_val = df[column].max()\n",
    "            # Print the column name with the corresponding min and max values\n",
    "            print(f'{column}:\\n Min value: {min_val}, Max value: {max_val}')\n",
    "\n",
    "# Load the CSV file into a pandas DataFrame\n",
    "correct_file_path = 'format_data/inventory_final.csv'\n",
    "df = pd.read_csv(correct_file_path, delimiter=',', encoding='utf-8')\n",
    "\n",
    "# Call the function to show the min and max values for each column\n",
    "show_min_max(df)\n"
   ]
  },
  {
   "cell_type": "markdown",
   "metadata": {},
   "source": [
    "we can find that there is not invaild value in the column\n",
    "## check duplicant rows"
   ]
  },
  {
   "cell_type": "code",
   "execution_count": 11,
   "metadata": {},
   "outputs": [
    {
     "name": "stdout",
     "output_type": "stream",
     "text": [
      "No duplicate rows found.\n"
     ]
    }
   ],
   "source": [
    "import pandas as pd\n",
    "# Load the CSV file into a pandas DataFrame\n",
    "correct_file_path = 'format_data/inventory_final.csv'\n",
    "df = pd.read_csv(correct_file_path, delimiter=',', encoding='utf-8')\n",
    "# list all columns name\n",
    "# print(df.columns)\n",
    "\n",
    "# check articleCode column and barcode column are unique if not then print the duplicate rows\n",
    "duplicates = df[df.duplicated(subset=['articleCode', 'barcode'], keep=False)]\n",
    "\n",
    "# Print duplicate rows if any\n",
    "if not duplicates.empty:\n",
    "    print(\"Duplicate rows found:\")\n",
    "    print(duplicates)\n",
    "else:\n",
    "    print(\"No duplicate rows found.\")\n"
   ]
  }
 ],
 "metadata": {
  "kernelspec": {
   "display_name": "base",
   "language": "python",
   "name": "python3"
  },
  "language_info": {
   "codemirror_mode": {
    "name": "ipython",
    "version": 3
   },
   "file_extension": ".py",
   "mimetype": "text/x-python",
   "name": "python",
   "nbconvert_exporter": "python",
   "pygments_lexer": "ipython3",
   "version": "3.9.13"
  },
  "orig_nbformat": 4
 },
 "nbformat": 4,
 "nbformat_minor": 2
}
