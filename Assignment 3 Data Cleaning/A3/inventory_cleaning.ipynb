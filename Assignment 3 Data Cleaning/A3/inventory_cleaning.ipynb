{
 "cells": [
  {
   "cell_type": "markdown",
   "metadata": {},
   "source": [
    "# data cleaning for the inventory.csv"
   ]
  },
  {
   "cell_type": "code",
   "execution_count": 3,
   "metadata": {},
   "outputs": [],
   "source": [
    "import pandas as pd\n",
    "df = pd.read_csv(r'rawdata\\inventory.csv', delimiter=',', encoding='utf-8')\n"
   ]
  },
  {
   "cell_type": "markdown",
   "metadata": {},
   "source": [
    "it means the inventory.csv is formatted .\n",
    "## check data consistance inside the table"
   ]
  },
  {
   "cell_type": "code",
   "execution_count": 4,
   "metadata": {},
   "outputs": [
    {
     "name": "stdout",
     "output_type": "stream",
     "text": [
      "articleCode,barcode,sizes,CurrentBasePrice,CurrentSalePrice,consignment,consignmentRp,qty,status\n",
      "\n",
      "16FBLO-U1114005,00BLPF1083,ALL,73500,105000,0,31500,3,1\n",
      "\n",
      "Row 23573 has  8 of columns instead of 9\n",
      "BSC.AR-QL0010,00ARQL0067,M,94500,135000,0,40500,0\n",
      "\n",
      "Writing 34010 line in correct file\n",
      "Writing 2 line in incorrect file\n"
     ]
    }
   ],
   "source": [
    "file_path = r'rawdata\\inventory.csv'\n",
    "# check if every row has same number of columns\n",
    "with open(file_path, 'r') as f:\n",
    "    lines = f.readlines()\n",
    "\n",
    "# Get the number of columns in the header\n",
    "header_columns = len(lines[0].split(','))\n",
    "print(lines[0])\n",
    "print(lines[1])\n",
    "\n",
    "# Separate the lines into correct and incorrect lines\n",
    "correct_lines = []\n",
    "incorrect_lines = []\n",
    "incorrect_lines.append(lines[0])\n",
    "\n",
    "\n",
    "# Check each line\n",
    "for i, line in enumerate(lines):\n",
    "    num_columns = len(line.split(','))\n",
    "    if num_columns != header_columns:\n",
    "        print(f'Row {i} has  {num_columns} of columns instead of {header_columns}')\n",
    "        incorrect_lines.append(line)\n",
    "        print(line)\n",
    "    else:\n",
    "        correct_lines.append(line)\n",
    "\n",
    "# Write the correct lines to a new file\n",
    "correct_file_path = 'format_data/inventory_final.csv'\n",
    "with open(correct_file_path, 'w') as f:\n",
    "    # print how many lines are written\n",
    "    print(f'Writing {len(correct_lines)} line in correct file')\n",
    "    f.writelines(correct_lines)\n",
    "\n",
    "# Write the incorrect lines to a new file\n",
    "incorrect_file_path = 'format_data/inventory-incorrect-lines.csv'\n",
    "with open(incorrect_file_path, 'w') as f:\n",
    "    # print how many lines are written\n",
    "    print(f'Writing {len(incorrect_lines)} line in incorrect file')\n",
    "    f.writelines(incorrect_lines)\n",
    "\n"
   ]
  },
  {
   "cell_type": "markdown",
   "metadata": {},
   "source": [
    "this one line all missing one value so we just delete them.  \n",
    "## check depulicant/invalid value"
   ]
  },
  {
   "cell_type": "code",
   "execution_count": 5,
   "metadata": {},
   "outputs": [
    {
     "name": "stdout",
     "output_type": "stream",
     "text": [
      "CurrentBasePrice:\n",
      " Min value: 8000, Max value: 6800000\n",
      "CurrentSalePrice:\n",
      " Min value: 10000, Max value: 8500000\n",
      "consignment:\n",
      " Min value: 0, Max value: 30\n",
      "consignmentRp:\n",
      " Min value: 0.0, Max value: 1700000.0\n",
      "qty:\n",
      " Min value: 0, Max value: 58\n",
      "status:\n",
      " Min value: 0.0, Max value: 1.0\n"
     ]
    }
   ],
   "source": [
    "import pandas as pd\n",
    "\n",
    "def show_min_max(df):\n",
    "    # Iterate over each column in the DataFrame\n",
    "    for column in df.columns:\n",
    "        # Check if the column contains numerical values\n",
    "        if pd.api.types.is_numeric_dtype(df[column]):\n",
    "            # Find the minimum and maximum values in the column\n",
    "            min_val = df[column].min()\n",
    "            max_val = df[column].max()\n",
    "            # Print the column name with the corresponding min and max values\n",
    "            print(f'{column}:\\n Min value: {min_val}, Max value: {max_val}')\n",
    "\n",
    "# Load the CSV file into a pandas DataFrame\n",
    "correct_file_path = 'format_data/inventory_final.csv'\n",
    "df = pd.read_csv(correct_file_path, delimiter=',', encoding='utf-8')\n",
    "\n",
    "# Call the function to show the min and max values for each column\n",
    "show_min_max(df)\n"
   ]
  },
  {
   "cell_type": "code",
   "execution_count": 7,
   "metadata": {},
   "outputs": [
    {
     "name": "stdout",
     "output_type": "stream",
     "text": [
      "True\n",
      "articleCode         0\n",
      "barcode             0\n",
      "sizes               0\n",
      "CurrentBasePrice    0\n",
      "CurrentSalePrice    0\n",
      "consignment         0\n",
      "consignmentRp       0\n",
      "qty                 0\n",
      "status              3\n",
      "dtype: int64\n"
     ]
    }
   ],
   "source": [
    "import pandas as pd\n",
    "# Load the CSV file into a pandas DataFrame\n",
    "correct_file_path = 'format_data/inventory_final.csv'\n",
    "df = pd.read_csv(correct_file_path, delimiter=',', encoding='utf-8')\n",
    "\n",
    "# check if there is null values in the DataFrame\n",
    "print(df.isnull().values.any())\n",
    "# print the number of null values in each column\n",
    "print(df.isnull().sum())"
   ]
  },
  {
   "cell_type": "code",
   "execution_count": 9,
   "metadata": {},
   "outputs": [
    {
     "name": "stdout",
     "output_type": "stream",
     "text": [
      "34009\n",
      "34006\n"
     ]
    }
   ],
   "source": [
    "import pandas as pd\n",
    "# Load the CSV file into a pandas DataFrame\n",
    "correct_file_path = 'format_data/inventory_final.csv'\n",
    "df = pd.read_csv(correct_file_path, delimiter=',', encoding='utf-8')\n",
    "print(len(df))\n",
    "# drop the rows with null values\n",
    "df = df.dropna()\n",
    "print(len(df))\n",
    "df.to_csv('format_data/inventory_final.csv', index=False)"
   ]
  },
  {
   "cell_type": "markdown",
   "metadata": {},
   "source": [
    "we can find that we have cleaned the invaild value in the status column\n",
    "## check duplicant rows"
   ]
  },
  {
   "cell_type": "code",
   "execution_count": 10,
   "metadata": {},
   "outputs": [
    {
     "name": "stdout",
     "output_type": "stream",
     "text": [
      "No duplicate rows found.\n"
     ]
    }
   ],
   "source": [
    "import pandas as pd\n",
    "# Load the CSV file into a pandas DataFrame\n",
    "correct_file_path = 'format_data/inventory_final.csv'\n",
    "df = pd.read_csv(correct_file_path, delimiter=',', encoding='utf-8')\n",
    "\n",
    "# check articleCode column and barcode column are unique if not then print the duplicate rows\n",
    "duplicates = df[df.duplicated(subset=['articleCode', 'barcode'], keep=False)]\n",
    "\n",
    "# Print duplicate rows if any\n",
    "if not duplicates.empty:\n",
    "    print(\"Duplicate rows found:\")\n",
    "    print(duplicates)\n",
    "else:\n",
    "    print(\"No duplicate rows found.\")\n"
   ]
  },
  {
   "cell_type": "markdown",
   "metadata": {},
   "source": [
    "# the inventory file has been cleaned"
   ]
  }
 ],
 "metadata": {
  "kernelspec": {
   "display_name": "base",
   "language": "python",
   "name": "python3"
  },
  "language_info": {
   "codemirror_mode": {
    "name": "ipython",
    "version": 3
   },
   "file_extension": ".py",
   "mimetype": "text/x-python",
   "name": "python",
   "nbconvert_exporter": "python",
   "pygments_lexer": "ipython3",
   "version": "3.9.13"
  },
  "orig_nbformat": 4
 },
 "nbformat": 4,
 "nbformat_minor": 2
}
