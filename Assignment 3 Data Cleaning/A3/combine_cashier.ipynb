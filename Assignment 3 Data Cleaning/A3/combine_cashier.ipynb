{
 "cells": [
  {
   "cell_type": "markdown",
   "metadata": {},
   "source": [
    "we have assume the relationship bewteen cashierpayment,cashier_final，cashierdetail table. So we need to validate our assumption her\n",
    "\n",
    "将cashierpayment和cashier_final，cashierdetail分别保存到df中，在cashier的部分，我们已经处理了noTrans值等于01SCS19E310345的部分，并且将ashierpayment的noTrans值等于01SCS19E310345删除，但是根据外键的关联性，在cashierdetail部分同时存在noTrans值等于01SCS19E310345的部分，所以首先将其删除。"
   ]
  },
  {
   "cell_type": "code",
   "execution_count": 1,
   "metadata": {},
   "outputs": [],
   "source": [
    "# combine three csv cashierpayment,cashier_final，cashierdetail\n",
    "import pandas as pd\n",
    "df1 = pd.read_csv(r'format_data\\cashier_final.csv', delimiter=',', encoding='utf-8')\n",
    "df2 = pd.read_csv(r'format_data\\cashierpayment_final.csv', delimiter=',', encoding='utf-8')\n",
    "df3 = pd.read_csv(r'format_data\\cashierdetail_final.csv', delimiter=',', encoding='utf-8')"
   ]
  },
  {
   "cell_type": "code",
   "execution_count": 2,
   "metadata": {},
   "outputs": [
    {
     "data": {
      "text/html": [
       "<div>\n",
       "<style scoped>\n",
       "    .dataframe tbody tr th:only-of-type {\n",
       "        vertical-align: middle;\n",
       "    }\n",
       "\n",
       "    .dataframe tbody tr th {\n",
       "        vertical-align: top;\n",
       "    }\n",
       "\n",
       "    .dataframe thead th {\n",
       "        text-align: right;\n",
       "    }\n",
       "</style>\n",
       "<table border=\"1\" class=\"dataframe\">\n",
       "  <thead>\n",
       "    <tr style=\"text-align: right;\">\n",
       "      <th></th>\n",
       "      <th>noTrans</th>\n",
       "      <th>ArticleCode</th>\n",
       "      <th>Barcode</th>\n",
       "      <th>sizes</th>\n",
       "      <th>qty</th>\n",
       "      <th>basePrice</th>\n",
       "      <th>salePrice</th>\n",
       "      <th>DiscountType</th>\n",
       "      <th>discountPersen</th>\n",
       "      <th>discountRupiah</th>\n",
       "      <th>DiscExpenses</th>\n",
       "      <th>consignment</th>\n",
       "      <th>consignmentRp</th>\n",
       "      <th>subTotal</th>\n",
       "      <th>payment</th>\n",
       "    </tr>\n",
       "  </thead>\n",
       "  <tbody>\n",
       "    <tr>\n",
       "      <th>11307</th>\n",
       "      <td>01SCS19E310345</td>\n",
       "      <td>AR.PCT-SE005</td>\n",
       "      <td>20ARSE0344</td>\n",
       "      <td>M</td>\n",
       "      <td>1</td>\n",
       "      <td>87750</td>\n",
       "      <td>135000</td>\n",
       "      <td>2</td>\n",
       "      <td>0</td>\n",
       "      <td>27000</td>\n",
       "      <td>1</td>\n",
       "      <td>0</td>\n",
       "      <td>27000</td>\n",
       "      <td>108000</td>\n",
       "      <td>81000</td>\n",
       "    </tr>\n",
       "  </tbody>\n",
       "</table>\n",
       "</div>"
      ],
      "text/plain": [
       "              noTrans   ArticleCode     Barcode sizes  qty  basePrice  \\\n",
       "11307  01SCS19E310345  AR.PCT-SE005  20ARSE0344     M    1      87750   \n",
       "\n",
       "       salePrice  DiscountType  discountPersen  discountRupiah  DiscExpenses  \\\n",
       "11307     135000             2               0           27000             1   \n",
       "\n",
       "       consignment  consignmentRp  subTotal  payment  \n",
       "11307            0          27000    108000    81000  "
      ]
     },
     "execution_count": 2,
     "metadata": {},
     "output_type": "execute_result"
    }
   ],
   "source": [
    "# 查看在cashierdetail中noTrans值等于01SCS19E310345的部分\n",
    "df3[df3['noTrans'] == '01SCS19E310345']"
   ]
  },
  {
   "cell_type": "code",
   "execution_count": 3,
   "metadata": {},
   "outputs": [
    {
     "data": {
      "text/html": [
       "<div>\n",
       "<style scoped>\n",
       "    .dataframe tbody tr th:only-of-type {\n",
       "        vertical-align: middle;\n",
       "    }\n",
       "\n",
       "    .dataframe tbody tr th {\n",
       "        vertical-align: top;\n",
       "    }\n",
       "\n",
       "    .dataframe thead th {\n",
       "        text-align: right;\n",
       "    }\n",
       "</style>\n",
       "<table border=\"1\" class=\"dataframe\">\n",
       "  <thead>\n",
       "    <tr style=\"text-align: right;\">\n",
       "      <th></th>\n",
       "      <th>noTrans</th>\n",
       "      <th>ArticleCode</th>\n",
       "      <th>Barcode</th>\n",
       "      <th>sizes</th>\n",
       "      <th>qty</th>\n",
       "      <th>basePrice</th>\n",
       "      <th>salePrice</th>\n",
       "      <th>DiscountType</th>\n",
       "      <th>discountPersen</th>\n",
       "      <th>discountRupiah</th>\n",
       "      <th>DiscExpenses</th>\n",
       "      <th>consignment</th>\n",
       "      <th>consignmentRp</th>\n",
       "      <th>subTotal</th>\n",
       "      <th>payment</th>\n",
       "    </tr>\n",
       "  </thead>\n",
       "  <tbody>\n",
       "  </tbody>\n",
       "</table>\n",
       "</div>"
      ],
      "text/plain": [
       "Empty DataFrame\n",
       "Columns: [noTrans, ArticleCode, Barcode, sizes, qty, basePrice, salePrice, DiscountType, discountPersen, discountRupiah, DiscExpenses, consignment, consignmentRp, subTotal, payment]\n",
       "Index: []"
      ]
     },
     "execution_count": 3,
     "metadata": {},
     "output_type": "execute_result"
    }
   ],
   "source": [
    "# 清除noTrans值等于01SCS19E310345的部分\n",
    "df3 = df3[df3['noTrans'] != '01SCS19E310345']\n",
    "# 再次查看\n",
    "df3[df3['noTrans'] == '01SCS19E310345']"
   ]
  },
  {
   "cell_type": "markdown",
   "metadata": {},
   "source": [
    "接下来查看notrans列还有什么值不同。将三个df中的notrans列作为列表存储"
   ]
  },
  {
   "cell_type": "code",
   "execution_count": 4,
   "metadata": {},
   "outputs": [],
   "source": [
    "ca_no1 = df1['noTrans'].tolist()\n",
    "ca_no2 = df2['noTrans'].tolist()\n",
    "ca_no3 = df3['noTrans'].tolist()"
   ]
  },
  {
   "cell_type": "markdown",
   "metadata": {},
   "source": [
    "## 首先看cashier 和cashier_payment列不同"
   ]
  },
  {
   "cell_type": "code",
   "execution_count": 5,
   "metadata": {},
   "outputs": [
    {
     "data": {
      "text/plain": [
       "['01SCS19E070078', '01SCS19E310345', '01SCS19E310181']"
      ]
     },
     "execution_count": 5,
     "metadata": {},
     "output_type": "execute_result"
    }
   ],
   "source": [
    "# 查找df1和df2的不同值\n",
    "not_intersects_1 = list(set(ca_no1).symmetric_difference(set(ca_no2)))\n",
    "not_intersects_1"
   ]
  },
  {
   "cell_type": "code",
   "execution_count": 6,
   "metadata": {},
   "outputs": [
    {
     "data": {
      "text/plain": [
       "['01SCS19E310345']"
      ]
     },
     "execution_count": 6,
     "metadata": {},
     "output_type": "execute_result"
    }
   ],
   "source": [
    "# 查找df1和df3不同值\n",
    "not_intersects_2 = list(set(ca_no1).symmetric_difference(set(ca_no3)))\n",
    "not_intersects_2"
   ]
  },
  {
   "cell_type": "code",
   "execution_count": 7,
   "metadata": {},
   "outputs": [
    {
     "data": {
      "text/plain": [
       "['01SCS19E070078', '01SCS19E310181']"
      ]
     },
     "execution_count": 7,
     "metadata": {},
     "output_type": "execute_result"
    }
   ],
   "source": [
    "# df2和df3的不同值\n",
    "not_intersects_3 = list(set(ca_no2).symmetric_difference(set(ca_no3)))\n",
    "not_intersects_3"
   ]
  },
  {
   "cell_type": "markdown",
   "metadata": {},
   "source": [
    "根据上面的处理，可以得到在cashierpayment中缺失了'01SCS19E310181', '01SCS19E070078'，'01SCS19E010027'这三个notrans值，而cashier里缺失了01SCS19E010027这个值。根据erd图，payment中的信息我无法根据现有的数据补全（这里随便编），所以在这里，我将这三列从这三个df中删除以保证他们的外键数量一致。"
   ]
  },
  {
   "cell_type": "code",
   "execution_count": 8,
   "metadata": {},
   "outputs": [
    {
     "data": {
      "text/html": [
       "<div>\n",
       "<style scoped>\n",
       "    .dataframe tbody tr th:only-of-type {\n",
       "        vertical-align: middle;\n",
       "    }\n",
       "\n",
       "    .dataframe tbody tr th {\n",
       "        vertical-align: top;\n",
       "    }\n",
       "\n",
       "    .dataframe thead th {\n",
       "        text-align: right;\n",
       "    }\n",
       "</style>\n",
       "<table border=\"1\" class=\"dataframe\">\n",
       "  <thead>\n",
       "    <tr style=\"text-align: right;\">\n",
       "      <th></th>\n",
       "      <th>noTrans</th>\n",
       "      <th>dateTrans</th>\n",
       "      <th>typeTrans</th>\n",
       "      <th>Notes</th>\n",
       "      <th>UserID</th>\n",
       "      <th>referenceTrans</th>\n",
       "    </tr>\n",
       "  </thead>\n",
       "  <tbody>\n",
       "    <tr>\n",
       "      <th>1150</th>\n",
       "      <td>01SCS19E070078</td>\n",
       "      <td>2019-05-07 16:35:16.000</td>\n",
       "      <td>CASHIER</td>\n",
       "      <td>NaN</td>\n",
       "      <td>CHANDRA</td>\n",
       "      <td>NaN</td>\n",
       "    </tr>\n",
       "    <tr>\n",
       "      <th>7640</th>\n",
       "      <td>01SCS19E310181</td>\n",
       "      <td>2019-05-31 15:54:58.000</td>\n",
       "      <td>CASHIER</td>\n",
       "      <td>NaN</td>\n",
       "      <td>LISDA</td>\n",
       "      <td>NaN</td>\n",
       "    </tr>\n",
       "  </tbody>\n",
       "</table>\n",
       "</div>"
      ],
      "text/plain": [
       "             noTrans                dateTrans typeTrans Notes   UserID  \\\n",
       "1150  01SCS19E070078  2019-05-07 16:35:16.000   CASHIER   NaN  CHANDRA   \n",
       "7640  01SCS19E310181  2019-05-31 15:54:58.000   CASHIER   NaN    LISDA   \n",
       "\n",
       "      referenceTrans  \n",
       "1150             NaN  \n",
       "7640             NaN  "
      ]
     },
     "execution_count": 8,
     "metadata": {},
     "output_type": "execute_result"
    }
   ],
   "source": [
    "df1[(df1['noTrans'] == '01SCS19E310181') | (df1['noTrans'] == '01SCS19E070078')]"
   ]
  },
  {
   "cell_type": "code",
   "execution_count": 9,
   "metadata": {},
   "outputs": [
    {
     "data": {
      "text/html": [
       "<div>\n",
       "<style scoped>\n",
       "    .dataframe tbody tr th:only-of-type {\n",
       "        vertical-align: middle;\n",
       "    }\n",
       "\n",
       "    .dataframe tbody tr th {\n",
       "        vertical-align: top;\n",
       "    }\n",
       "\n",
       "    .dataframe thead th {\n",
       "        text-align: right;\n",
       "    }\n",
       "</style>\n",
       "<table border=\"1\" class=\"dataframe\">\n",
       "  <thead>\n",
       "    <tr style=\"text-align: right;\">\n",
       "      <th></th>\n",
       "      <th>noTrans</th>\n",
       "      <th>dateTrans</th>\n",
       "      <th>typeTrans</th>\n",
       "      <th>Notes</th>\n",
       "      <th>UserID</th>\n",
       "      <th>referenceTrans</th>\n",
       "    </tr>\n",
       "  </thead>\n",
       "  <tbody>\n",
       "  </tbody>\n",
       "</table>\n",
       "</div>"
      ],
      "text/plain": [
       "Empty DataFrame\n",
       "Columns: [noTrans, dateTrans, typeTrans, Notes, UserID, referenceTrans]\n",
       "Index: []"
      ]
     },
     "execution_count": 9,
     "metadata": {},
     "output_type": "execute_result"
    }
   ],
   "source": [
    "df1 = df1[(df1['noTrans'] != '01SCS19E310181') & (df1['noTrans'] != '01SCS19E070078') & (df1['noTrans'] != '01SCS19E010027')]\n",
    "# 再次查看\n",
    "df1[(df1['noTrans'] == '01SCS19E310181') | (df1['noTrans'] == '01SCS19E070078')|(df1['noTrans'] == '01SCS19E010027')]\n"
   ]
  },
  {
   "cell_type": "markdown",
   "metadata": {},
   "source": [
    "cashier清理完毕。接着处理cashierdetail。将多余的两列处理掉"
   ]
  },
  {
   "cell_type": "code",
   "execution_count": 10,
   "metadata": {},
   "outputs": [
    {
     "data": {
      "text/html": [
       "<div>\n",
       "<style scoped>\n",
       "    .dataframe tbody tr th:only-of-type {\n",
       "        vertical-align: middle;\n",
       "    }\n",
       "\n",
       "    .dataframe tbody tr th {\n",
       "        vertical-align: top;\n",
       "    }\n",
       "\n",
       "    .dataframe thead th {\n",
       "        text-align: right;\n",
       "    }\n",
       "</style>\n",
       "<table border=\"1\" class=\"dataframe\">\n",
       "  <thead>\n",
       "    <tr style=\"text-align: right;\">\n",
       "      <th></th>\n",
       "      <th>noTrans</th>\n",
       "      <th>ArticleCode</th>\n",
       "      <th>Barcode</th>\n",
       "      <th>sizes</th>\n",
       "      <th>qty</th>\n",
       "      <th>basePrice</th>\n",
       "      <th>salePrice</th>\n",
       "      <th>DiscountType</th>\n",
       "      <th>discountPersen</th>\n",
       "      <th>discountRupiah</th>\n",
       "      <th>DiscExpenses</th>\n",
       "      <th>consignment</th>\n",
       "      <th>consignmentRp</th>\n",
       "      <th>subTotal</th>\n",
       "      <th>payment</th>\n",
       "    </tr>\n",
       "  </thead>\n",
       "  <tbody>\n",
       "  </tbody>\n",
       "</table>\n",
       "</div>"
      ],
      "text/plain": [
       "Empty DataFrame\n",
       "Columns: [noTrans, ArticleCode, Barcode, sizes, qty, basePrice, salePrice, DiscountType, discountPersen, discountRupiah, DiscExpenses, consignment, consignmentRp, subTotal, payment]\n",
       "Index: []"
      ]
     },
     "execution_count": 10,
     "metadata": {},
     "output_type": "execute_result"
    }
   ],
   "source": [
    "df3 = df3[(df3['noTrans'] != '01SCS19E310181') & (df3['noTrans'] != '01SCS19E070078')]\n",
    "df3[(df3['noTrans'] == '01SCS19E310181') | (df3['noTrans'] == '01SCS19E070078')]"
   ]
  },
  {
   "cell_type": "markdown",
   "metadata": {},
   "source": [
    "最后把cashierpayment中的01SCS19E010027列删除"
   ]
  },
  {
   "cell_type": "code",
   "execution_count": 11,
   "metadata": {},
   "outputs": [],
   "source": [
    "df2[(df2['noTrans'] == '01SCS19E010027')]\n",
    "df2 = df2[(df2['noTrans'] != '01SCS19E010027')]"
   ]
  },
  {
   "cell_type": "markdown",
   "metadata": {},
   "source": [
    "处理完成后重新查看"
   ]
  },
  {
   "cell_type": "code",
   "execution_count": 12,
   "metadata": {},
   "outputs": [],
   "source": [
    "ca_no1_clean = df1['noTrans'].tolist()\n",
    "ca_no2_clean = df2['noTrans'].tolist()\n",
    "ca_no3_clean = df3['noTrans'].tolist()\n",
    "\n",
    "not_intersects_1_clean = list(set(ca_no1_clean).symmetric_difference(set(ca_no1_clean)))\n",
    "not_intersects_2_clean = list(set(ca_no1_clean).symmetric_difference(set(ca_no3_clean)))\n",
    "not_intersects_3_clean = list(set(ca_no2_clean).symmetric_difference(set(ca_no3_clean)))"
   ]
  },
  {
   "cell_type": "code",
   "execution_count": 13,
   "metadata": {},
   "outputs": [
    {
     "data": {
      "text/plain": [
       "[]"
      ]
     },
     "execution_count": 13,
     "metadata": {},
     "output_type": "execute_result"
    }
   ],
   "source": [
    "not_intersects_1_clean"
   ]
  },
  {
   "cell_type": "code",
   "execution_count": 14,
   "metadata": {},
   "outputs": [
    {
     "data": {
      "text/plain": [
       "['01SCS19E010027', '01SCS19E310345']"
      ]
     },
     "execution_count": 14,
     "metadata": {},
     "output_type": "execute_result"
    }
   ],
   "source": [
    "not_intersects_2_clean"
   ]
  },
  {
   "cell_type": "code",
   "execution_count": 15,
   "metadata": {},
   "outputs": [
    {
     "data": {
      "text/plain": [
       "['01SCS19E010027']"
      ]
     },
     "execution_count": 15,
     "metadata": {},
     "output_type": "execute_result"
    }
   ],
   "source": [
    "not_intersects_3_clean"
   ]
  },
  {
   "cell_type": "markdown",
   "metadata": {},
   "source": [
    "没有不一样的值，说明这三个df的外键已经完全统一。将数据保存成csv"
   ]
  },
  {
   "cell_type": "code",
   "execution_count": null,
   "metadata": {},
   "outputs": [],
   "source": [
    "df1.to_csv('format_data/cashier_final.csv', index=False)\n",
    "df2.to_csv('format_data/cashierpayment_final.csv', index=False)\n",
    "df3.to_csv('format_data/cashierdetail_final.csv', index=False)"
   ]
  }
 ],
 "metadata": {
  "kernelspec": {
   "display_name": "base",
   "language": "python",
   "name": "python3"
  },
  "language_info": {
   "codemirror_mode": {
    "name": "ipython",
    "version": 3
   },
   "file_extension": ".py",
   "mimetype": "text/x-python",
   "name": "python",
   "nbconvert_exporter": "python",
   "pygments_lexer": "ipython3",
   "version": "3.9.13"
  },
  "orig_nbformat": 4
 },
 "nbformat": 4,
 "nbformat_minor": 2
}
