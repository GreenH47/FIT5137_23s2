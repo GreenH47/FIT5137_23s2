{
 "cells": [
  {
   "cell_type": "code",
   "execution_count": 3,
   "metadata": {},
   "outputs": [],
   "source": [
    "import pandas as pd"
   ]
  },
  {
   "cell_type": "code",
   "execution_count": 12,
   "metadata": {},
   "outputs": [
    {
     "name": "stdout",
     "output_type": "stream",
     "text": [
      "Row 2576 has  18 columns\n",
      "Row 2584 has  18 columns\n",
      "Row 4145 has  19 columns\n",
      "Row 4146 has  19 columns\n",
      "Row 4147 has  19 columns\n",
      "Row 4148 has  19 columns\n",
      "Row 4149 has  19 columns\n",
      "Row 4150 has  19 columns\n",
      "Row 5960 has  18 columns\n",
      "Row 11899 has  19 columns\n",
      "Row 11900 has  19 columns\n",
      "Row 11903 has  18 columns\n"
     ]
    }
   ],
   "source": [
    "article_file_path = r'C:\\Users\\dell1\\OneDrive\\Desktop\\FIT5137\\A3\\rawdata\\article.csv'\n",
    "with open(article_file_path, 'r') as f:\n",
    "    lines = f.readlines()\n",
    "\n",
    "# Get the number of columns in the header\n",
    "header_columns = len(lines[0].split(','))\n",
    "\n",
    "# Separate the lines into correct and incorrect lines\n",
    "correct_lines = []\n",
    "incorrect_lines = []\n",
    "incorrect_lines.append(lines[0])\n",
    "\n",
    "# Check each line\n",
    "for i, line in enumerate(lines):\n",
    "    num_columns = len(line.split(','))\n",
    "    if num_columns != header_columns:\n",
    "        print(f'Row {i} has  {num_columns} columns')\n",
    "        incorrect_lines.append(line)\n",
    "    else:\n",
    "        correct_lines.append(line)\n",
    "\n",
    "# Write the correct lines to a new file\n",
    "correct_file_path = 'format_data/article-correct-lines.csv'\n",
    "with open(correct_file_path, 'w') as f:\n",
    "    f.writelines(correct_lines)\n",
    "\n",
    "# Write the incorrect lines to a new file\n",
    "incorrect_file_path = 'format_data/article-incorrect-lines.csv'\n",
    "with open(incorrect_file_path, 'w') as f:\n",
    "    f.writelines(incorrect_lines)"
   ]
  },
  {
   "cell_type": "code",
   "execution_count": 2,
   "metadata": {},
   "outputs": [
    {
     "name": "stdout",
     "output_type": "stream",
     "text": [
      "articleCode     False\n",
      "articleName     False\n",
      "VendorKey       False\n",
      "VendorName      False\n",
      "categoryInit    False\n",
      "categoryName    False\n",
      "TypeInit        False\n",
      "TypeName        False\n",
      "startDate       False\n",
      "expireDate      False\n",
      "colourInit      False\n",
      "colourName       True\n",
      "sex             False\n",
      "picture          True\n",
      "basePrice       False\n",
      "salePrice       False\n",
      "notes            True\n",
      "dtype: bool\n"
     ]
    }
   ],
   "source": [
    "import pandas as pd\n",
    "import numpy as np\n",
    "#  remember we need to consider for future purpose: make the size bigger using common sense\n",
    "path = r\"C:\\Users\\dell1\\OneDrive\\Desktop\\FIT5137\\A3\\format_data\\article-correct-lines.csv\"\n",
    "df = pd.read_csv(path)\n",
    "null_check = df.isnull().any()\n",
    "\n",
    "print(null_check)"
   ]
  },
  {
   "cell_type": "code",
   "execution_count": 11,
   "metadata": {},
   "outputs": [
    {
     "name": "stdout",
     "output_type": "stream",
     "text": [
      "            articleCode              articleName VendorKey     VendorName  \\\n",
      "2      16IBLO-KD0120003              TK SPLIT 04       CLR       COOLROAM   \n",
      "3       16IBLO-M0112006              T GUERRA 05       CLR       COOLROAM   \n",
      "8       16JBLO-M0117003             T PLACKET 09       CLR       COOLROAM   \n",
      "15      16JBLO-U0401001               BG HIFO 01       CLR       COOLROAM   \n",
      "22      16JBLO-U0407030                 BP SHORD       CLR       COOLROAM   \n",
      "...                 ...                      ...       ...            ...   \n",
      "12422        YRX-PI0007            EVOLE - BLACK       YRX  MAGENTAFELLOW   \n",
      "12426        YRX-PI0011   NEGATIVE CREEP - BLACK       YRX  MAGENTAFELLOW   \n",
      "12427        YRX-PI0012        OF A COPY - BLACK       YRX  MAGENTAFELLOW   \n",
      "12429        YRX-PI0014             TEEN - BLACK       YRX  MAGENTAFELLOW   \n",
      "12430        YRX-PI0015  TERRITORIAL PIS - BLACK       YRX  MAGENTAFELLOW   \n",
      "\n",
      "       categoryInit categoryName  TypeInit     TypeName  \\\n",
      "2                11      T-SHIRT         1       CASUAL   \n",
      "3                11      T-SHIRT         2  LONG SLEEVE   \n",
      "8                11      T-SHIRT         1       CASUAL   \n",
      "15                2          BAG         5    SLING BAG   \n",
      "22                2          BAG         1     BAG PACK   \n",
      "...             ...          ...       ...          ...   \n",
      "12422            11      T-SHIRT         1       CASUAL   \n",
      "12426            11      T-SHIRT         1       CASUAL   \n",
      "12427            11      T-SHIRT         1       CASUAL   \n",
      "12429            11      T-SHIRT         1       CASUAL   \n",
      "12430            11      T-SHIRT         1       CASUAL   \n",
      "\n",
      "                     startDate               expireDate  colourInit  \\\n",
      "2      2020-01-17 00:00:00.000  2020-05-16 00:00:00.000           1   \n",
      "3      2020-01-17 00:00:00.000  2020-05-16 00:00:00.000           1   \n",
      "8      2020-01-17 00:00:00.000  2020-05-16 00:00:00.000           1   \n",
      "15     2020-01-17 00:00:00.000  2020-05-16 00:00:00.000           1   \n",
      "22     2020-01-17 00:00:00.000  2020-05-16 00:00:00.000           1   \n",
      "...                        ...                      ...         ...   \n",
      "12422  2016-10-01 00:00:00.000  2017-01-31 00:00:00.000           1   \n",
      "12426  2016-10-01 00:00:00.000  2017-01-31 00:00:00.000           1   \n",
      "12427  2016-10-01 00:00:00.000  2017-01-31 00:00:00.000           1   \n",
      "12429  2016-10-01 00:00:00.000  2017-01-31 00:00:00.000           1   \n",
      "12430  2016-10-01 00:00:00.000  2017-01-31 00:00:00.000           1   \n",
      "\n",
      "      colourName sex picture  basePrice  salePrice                   notes  \n",
      "2          BLACK  KD       -      52500      75000                       -  \n",
      "3          BLACK   M       -      87500     125000                       -  \n",
      "8          BLACK   M       -      77000     110000                       -  \n",
      "15         BLACK   U       -     105000     150000                       -  \n",
      "22         BLACK   U       -     129500     185000                       -  \n",
      "...          ...  ..     ...        ...        ...                     ...  \n",
      "12422      BLACK   M       -     112000     160000  MASTERING OCTOBER 2016  \n",
      "12426      BLACK   M       -      91000     130000  MASTERING OCTOBER 2016  \n",
      "12427      BLACK   M       -      91000     130000  MASTERING OCTOBER 2016  \n",
      "12429      BLACK   M       -      94500     135000  MASTERING OCTOBER 2016  \n",
      "12430      BLACK   M       -     112000     160000  MASTERING OCTOBER 2016  \n",
      "\n",
      "[4722 rows x 17 columns]\n"
     ]
    }
   ],
   "source": [
    "rows_with_null_color = df[df['colourInit']== 1] \n",
    "\n",
    "print(rows_with_null_color)"
   ]
  }
 ],
 "metadata": {
  "kernelspec": {
   "display_name": "base",
   "language": "python",
   "name": "python3"
  },
  "language_info": {
   "codemirror_mode": {
    "name": "ipython",
    "version": 3
   },
   "file_extension": ".py",
   "mimetype": "text/x-python",
   "name": "python",
   "nbconvert_exporter": "python",
   "pygments_lexer": "ipython3",
   "version": "3.11.4"
  },
  "orig_nbformat": 4
 },
 "nbformat": 4,
 "nbformat_minor": 2
}
