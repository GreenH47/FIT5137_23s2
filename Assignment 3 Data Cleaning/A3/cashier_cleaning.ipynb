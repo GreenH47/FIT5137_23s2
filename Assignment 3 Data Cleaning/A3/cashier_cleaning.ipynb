{
 "cells": [
  {
   "cell_type": "markdown",
   "metadata": {},
   "source": [
    "# data cleaning for the cashier.csv"
   ]
  },
  {
   "cell_type": "code",
   "execution_count": 4,
   "metadata": {},
   "outputs": [],
   "source": [
    "import pandas as pd\n",
    "cashier_file_path = r'rawdata\\cashier.csv'\n",
    "# Load CSV file into a pandas DataFrame\n",
    "df = pd.read_csv(cashier_file_path, delimiter=',', encoding='utf-8')"
   ]
  },
  {
   "cell_type": "markdown",
   "metadata": {},
   "source": [
    "it means the cashier.csv is formatted without miskate.  \n",
    "## check depulicant value inside the table"
   ]
  },
  {
   "cell_type": "code",
   "execution_count": 12,
   "metadata": {},
   "outputs": [
    {
     "name": "stdout",
     "output_type": "stream",
     "text": [
      "Incorrect lines:\n",
      "noTrans,dateTrans,typeTrans,Notes,UserID,referenceTrans\n",
      "\n"
     ]
    }
   ],
   "source": [
    "# check if every row has same number of columns\n",
    "with open(cashier_file_path, 'r') as f:\n",
    "    lines = f.readlines()\n",
    "\n",
    "# Get the number of columns in the header\n",
    "header_columns = len(lines[0].split(','))\n",
    "\n",
    "# Separate the lines into correct and incorrect lines\n",
    "correct_lines = []\n",
    "incorrect_lines = []\n",
    "incorrect_lines.append(lines[0])\n",
    "\n",
    "\n",
    "# Check each line\n",
    "for i, line in enumerate(lines):\n",
    "    num_columns = len(line.split(','))\n",
    "    if num_columns != header_columns:\n",
    "        print(f'Row {i} has  {num_columns} of columns instead of {header_columns}')\n",
    "        incorrect_lines.append(line)\n",
    "        print(line)\n",
    "    else:\n",
    "        correct_lines.append(line)\n",
    "\n",
    "# Write the correct lines to a new file\n",
    "correct_file_path = 'format_data/cashier_final.csv'\n",
    "with open(correct_file_path, 'w') as f:\n",
    "    f.writelines(correct_lines)\n",
    "\n",
    "# Write the incorrect lines to a new file\n",
    "incorrect_file_path = 'format_data/cashier-incorrect-lines.csv'\n",
    "with open(incorrect_file_path, 'w') as f:\n",
    "    f.writelines(incorrect_lines)\n",
    "\n",
    "# print incorrect lines\n",
    "print('Incorrect lines:')\n",
    "for line in incorrect_lines:\n",
    "    print(line)\n",
    "    "
   ]
  },
  {
   "cell_type": "markdown",
   "metadata": {},
   "source": [
    "there doen't have incorrect line for cashier.csv"
   ]
  },
  {
   "cell_type": "code",
   "execution_count": 13,
   "metadata": {},
   "outputs": [
    {
     "name": "stdout",
     "output_type": "stream",
     "text": [
      "raw data length: 8008\n",
      "drop duplicate data length: 8008\n"
     ]
    }
   ],
   "source": [
    "# count = df.groupby('noTrans').size()\n",
    "# print('the number of duplicated transactions: ', count[count > 1].count())\n",
    "import pandas as pd\n",
    "correct_file_path = 'format_data/cashier_final.csv'\n",
    "df = pd.read_csv(correct_file_path, delimiter=',', encoding='utf-8')\n",
    "print(\"raw data length: \" + str(len(df)))\n",
    "\n",
    "\n",
    "df = df.drop_duplicates()\n",
    "length = len(df)\n",
    "print(\"drop duplicate data length: \" + str(len(df)))\n",
    "\n",
    "#save to format_data folder\n",
    "df.to_csv('format_data/cashier_final.csv', index=False)\n"
   ]
  },
  {
   "cell_type": "markdown",
   "metadata": {},
   "source": [
    "so it means cashier csv doesn't have duplicate data in first check. let's make a deep dive inside the data"
   ]
  },
  {
   "cell_type": "markdown",
   "metadata": {},
   "source": [
    "# so the cashier.csv is formatted and cleaned"
   ]
  },
  {
   "cell_type": "code",
   "execution_count": 2,
   "metadata": {},
   "outputs": [
    {
     "name": "stdout",
     "output_type": "stream",
     "text": [
      "False\n",
      "noTrans      0\n",
      "dateTrans    0\n",
      "typeTrans    0\n",
      "UserID       0\n",
      "dtype: int64\n"
     ]
    }
   ],
   "source": [
    "import pandas as pd\n",
    "correct_file_path = 'format_data/cashier_final.csv'\n",
    "df = pd.read_csv(correct_file_path, delimiter=',', encoding='utf-8')\n",
    "\n",
    "# except the colourName picture notes columns\n",
    "df = df.drop(['Notes', 'referenceTrans'], axis=1)\n",
    "# check if there is null values in the DataFrame\n",
    "print(df.isnull().values.any())\n",
    "# print the number of null values in each column\n",
    "print(df.isnull().sum())\n",
    "\n"
   ]
  },
  {
   "cell_type": "code",
   "execution_count": 16,
   "metadata": {},
   "outputs": [
    {
     "name": "stdout",
     "output_type": "stream",
     "text": [
      "Empty DataFrame\n",
      "Columns: [noTrans, dateTrans, typeTrans, Notes, UserID, referenceTrans]\n",
      "Index: []\n"
     ]
    }
   ],
   "source": [
    "# transform dateTrans to timestamp\n",
    "not_timestamp_rows = df[df['dateTrans'].apply(lambda x: isinstance(x, pd.Timestamp))]\n",
    "print(not_timestamp_rows)"
   ]
  },
  {
   "cell_type": "code",
   "execution_count": 17,
   "metadata": {},
   "outputs": [
    {
     "name": "stdout",
     "output_type": "stream",
     "text": [
      "Empty DataFrame\n",
      "Columns: [noTrans, dateTrans, typeTrans, Notes, UserID, referenceTrans]\n",
      "Index: []\n"
     ]
    }
   ],
   "source": [
    "# Define the regex pattern for the required format\n",
    "pattern = r\"^\\d{4}-\\d{2}-\\d{2} \\d{2}:\\d{2}:\\d{2}\\.\\d{3}$\"\n",
    "\n",
    "# Find rows that don't match the pattern\n",
    "non_matching_rows = df[~df['dateTrans'].str.match(pattern)]\n",
    "\n",
    "print(non_matching_rows)"
   ]
  },
  {
   "cell_type": "code",
   "execution_count": 18,
   "metadata": {},
   "outputs": [
    {
     "name": "stdout",
     "output_type": "stream",
     "text": [
      "the number of duplicated transactions:  0\n",
      "Empty DataFrame\n",
      "Columns: [noTrans, dateTrans, typeTrans, Notes, UserID, referenceTrans]\n",
      "Index: []\n"
     ]
    }
   ],
   "source": [
    "count = df.groupby('noTrans').size()\n",
    "print('the number of duplicated transactions: ', count[count > 1].count())\n",
    "duplicate_rows_noTrans = df[df.duplicated(['noTrans'], keep=False)]\n",
    "print(duplicate_rows_noTrans)"
   ]
  },
  {
   "cell_type": "code",
   "execution_count": 19,
   "metadata": {},
   "outputs": [
    {
     "name": "stdout",
     "output_type": "stream",
     "text": [
      "8008\n"
     ]
    }
   ],
   "source": [
    "ca_no = set(df['noTrans'].tolist())\n",
    "print(len(ca_no))"
   ]
  }
 ],
 "metadata": {
  "kernelspec": {
   "display_name": "base",
   "language": "python",
   "name": "python3"
  },
  "language_info": {
   "codemirror_mode": {
    "name": "ipython",
    "version": 3
   },
   "file_extension": ".py",
   "mimetype": "text/x-python",
   "name": "python",
   "nbconvert_exporter": "python",
   "pygments_lexer": "ipython3",
   "version": "3.9.13"
  },
  "orig_nbformat": 4
 },
 "nbformat": 4,
 "nbformat_minor": 2
}
