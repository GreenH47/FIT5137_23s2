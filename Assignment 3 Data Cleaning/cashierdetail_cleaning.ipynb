{
 "cells": [
  {
   "cell_type": "markdown",
   "metadata": {},
   "source": [
    "# data cleaning for the cashierdetail.csv"
   ]
  },
  {
   "cell_type": "code",
   "execution_count": 2,
   "metadata": {},
   "outputs": [],
   "source": [
    "import pandas as pd\n",
    "file_path = 'rawdata/cashierdetail.csv'\n",
    "# Load CSV file into a pandas DataFrame\n",
    "df = pd.read_csv(file_path, delimiter=',', encoding='utf-8')"
   ]
  },
  {
   "cell_type": "markdown",
   "metadata": {},
   "source": [
    "it means the cashierdetail.csv is formatted .\n",
    "## check data consistance inside the table"
   ]
  },
  {
   "cell_type": "code",
   "execution_count": 3,
   "metadata": {},
   "outputs": [
    {
     "name": "stdout",
     "output_type": "stream",
     "text": [
      "noTrans,ArticleCode,Barcode,sizes,qty,basePrice,salePrice,DiscountType,discountPersen,discountRupiah,DiscExpenses,consignment,consignmentRp,subTotal,payment\n",
      "\n",
      "01SCS19E010001,BSC.AR-QG0007,00ARQG0093,ALL,1,80000,225000,2,0,125000,1,0,20000,100000,80000\n",
      "\n",
      "Row 50 has  14 of columns instead of 15\n",
      "01SCS19E010027,BSC.AR-SC0034,00ARSC0228,S,1,125000,315000,2,0,94500,1,0,44100,220500 176400\n",
      "\n",
      "Row 10855 has  14 of columns instead of 15\n",
      "01SCS19E300663,AR.ESB-SE003,20ARSE0247,M 1,204750,315000,2,0,63000,1,0,63000,252000,189000\n",
      "\n",
      "Writing 11558 line in correct file\n",
      "Writing 3 line in incorrect file\n"
     ]
    }
   ],
   "source": [
    "# check if every row has same number of columns\n",
    "with open(file_path, 'r') as f:\n",
    "    lines = f.readlines()\n",
    "\n",
    "# Get the number of columns in the header\n",
    "header_columns = len(lines[0].split(','))\n",
    "print(lines[0])\n",
    "print(lines[1])\n",
    "\n",
    "# Separate the lines into correct and incorrect lines\n",
    "correct_lines = []\n",
    "incorrect_lines = []\n",
    "incorrect_lines.append(lines[0])\n",
    "\n",
    "\n",
    "# Check each line\n",
    "for i, line in enumerate(lines):\n",
    "    num_columns = len(line.split(','))\n",
    "    if num_columns != header_columns:\n",
    "        print(f'Row {i} has  {num_columns} of columns instead of {header_columns}')\n",
    "        incorrect_lines.append(line)\n",
    "        print(line)\n",
    "    else:\n",
    "        correct_lines.append(line)\n",
    "\n",
    "# Write the correct lines to a new file\n",
    "correct_file_path = 'format_data/cashierdetail_final.csv'\n",
    "with open(correct_file_path, 'w') as f:\n",
    "    # print how many lines are written\n",
    "    print(f'Writing {len(correct_lines)} line in correct file')\n",
    "    f.writelines(correct_lines)\n",
    "\n",
    "# Write the incorrect lines to a new file\n",
    "incorrect_file_path = 'format_data/cashierdetail-incorrect-lines.csv'\n",
    "with open(incorrect_file_path, 'w') as f:\n",
    "    # print how many lines are written\n",
    "    print(f'Writing {len(incorrect_lines)} line in incorrect file')\n",
    "    f.writelines(incorrect_lines)\n",
    "\n"
   ]
  },
  {
   "cell_type": "code",
   "execution_count": 4,
   "metadata": {},
   "outputs": [
    {
     "data": {
      "text/html": [
       "<div>\n",
       "<style scoped>\n",
       "    .dataframe tbody tr th:only-of-type {\n",
       "        vertical-align: middle;\n",
       "    }\n",
       "\n",
       "    .dataframe tbody tr th {\n",
       "        vertical-align: top;\n",
       "    }\n",
       "\n",
       "    .dataframe thead th {\n",
       "        text-align: right;\n",
       "    }\n",
       "</style>\n",
       "<table border=\"1\" class=\"dataframe\">\n",
       "  <thead>\n",
       "    <tr style=\"text-align: right;\">\n",
       "      <th></th>\n",
       "      <th>noTrans</th>\n",
       "      <th>ArticleCode</th>\n",
       "      <th>Barcode</th>\n",
       "      <th>sizes</th>\n",
       "      <th>qty</th>\n",
       "      <th>basePrice</th>\n",
       "      <th>salePrice</th>\n",
       "      <th>DiscountType</th>\n",
       "      <th>discountPersen</th>\n",
       "      <th>discountRupiah</th>\n",
       "      <th>DiscExpenses</th>\n",
       "      <th>consignment</th>\n",
       "      <th>consignmentRp</th>\n",
       "      <th>subTotal</th>\n",
       "      <th>payment</th>\n",
       "    </tr>\n",
       "  </thead>\n",
       "  <tbody>\n",
       "    <tr>\n",
       "      <th>0</th>\n",
       "      <td>01SCS19E010027</td>\n",
       "      <td>BSC.AR-SC0034</td>\n",
       "      <td>00ARSC0228</td>\n",
       "      <td>S</td>\n",
       "      <td>1</td>\n",
       "      <td>125000</td>\n",
       "      <td>315000</td>\n",
       "      <td>2</td>\n",
       "      <td>0</td>\n",
       "      <td>94500</td>\n",
       "      <td>1</td>\n",
       "      <td>0</td>\n",
       "      <td>44100</td>\n",
       "      <td>220500 176400</td>\n",
       "      <td>NaN</td>\n",
       "    </tr>\n",
       "    <tr>\n",
       "      <th>1</th>\n",
       "      <td>01SCS19E300663</td>\n",
       "      <td>AR.ESB-SE003</td>\n",
       "      <td>20ARSE0247</td>\n",
       "      <td>M 1</td>\n",
       "      <td>204750</td>\n",
       "      <td>315000</td>\n",
       "      <td>2</td>\n",
       "      <td>0</td>\n",
       "      <td>63000</td>\n",
       "      <td>1</td>\n",
       "      <td>0</td>\n",
       "      <td>63000</td>\n",
       "      <td>252000</td>\n",
       "      <td>189000</td>\n",
       "      <td>NaN</td>\n",
       "    </tr>\n",
       "  </tbody>\n",
       "</table>\n",
       "</div>"
      ],
      "text/plain": [
       "          noTrans    ArticleCode     Barcode sizes     qty  basePrice  \\\n",
       "0  01SCS19E010027  BSC.AR-SC0034  00ARSC0228     S       1     125000   \n",
       "1  01SCS19E300663   AR.ESB-SE003  20ARSE0247   M 1  204750     315000   \n",
       "\n",
       "   salePrice  DiscountType  discountPersen  discountRupiah  DiscExpenses  \\\n",
       "0     315000             2               0           94500             1   \n",
       "1          2             0           63000               1             0   \n",
       "\n",
       "   consignment  consignmentRp       subTotal  payment  \n",
       "0            0          44100  220500 176400      NaN  \n",
       "1        63000         252000         189000      NaN  "
      ]
     },
     "execution_count": 4,
     "metadata": {},
     "output_type": "execute_result"
    }
   ],
   "source": [
    "df = pd.read_csv(incorrect_file_path, delimiter=',', encoding='utf-8')\n",
    "df"
   ]
  },
  {
   "cell_type": "markdown",
   "metadata": {},
   "source": [
    "in this case we can find that this two line missing a \",\" to isolate different value. we just need manually add one and merge with the correct version."
   ]
  },
  {
   "cell_type": "code",
   "execution_count": 5,
   "metadata": {},
   "outputs": [
    {
     "name": "stdout",
     "output_type": "stream",
     "text": [
      "Writing 11559 line in final file\n"
     ]
    }
   ],
   "source": [
    "manual_file_path = 'format_data/cashierdetail-incorrect-lines-manual.csv'\n",
    "\n",
    "# merage incorrect_file_path and correct_file_path\n",
    "df1 = pd.read_csv(correct_file_path, delimiter=',', encoding='utf-8')\n",
    "df2 = pd.read_csv(manual_file_path, delimiter=',', encoding='utf-8')\n",
    "df = pd.concat([df1, df2], axis=0)\n",
    "df.to_csv('format_data/cashierdetail_final.csv', index=False)\n",
    "# print how many lines in the final file\n",
    "print(f'Writing {len(df)} line in final file')\n",
    "df = pd.read_csv('format_data/cashierdetail_final.csv', delimiter=',', encoding='utf-8')"
   ]
  },
  {
   "cell_type": "markdown",
   "metadata": {},
   "source": [
    "## check depulicant/invalid value"
   ]
  },
  {
   "cell_type": "code",
   "execution_count": 2,
   "metadata": {},
   "outputs": [
    {
     "name": "stdout",
     "output_type": "stream",
     "text": [
      "Empty DataFrame\n",
      "Columns: [noTrans, ArticleCode, Barcode, sizes, qty, basePrice, salePrice, DiscountType, discountPersen, discountRupiah, DiscExpenses, consignment, consignmentRp, subTotal, payment]\n",
      "Index: []\n"
     ]
    }
   ],
   "source": [
    "import pandas as pd\n",
    "# Load the CSV file into a pandas DataFrame\n",
    "correct_file_path = 'format_data/cashierdetail_final.csv'\n",
    "df = pd.read_csv(correct_file_path, delimiter=',', encoding='utf-8')\n",
    "\n",
    "# check if there are any null values rows\n",
    "null_data = df[df.isnull().any(axis=1)]\n",
    "print(null_data)"
   ]
  },
  {
   "cell_type": "code",
   "execution_count": 6,
   "metadata": {},
   "outputs": [
    {
     "name": "stdout",
     "output_type": "stream",
     "text": [
      "qty:\n",
      " Min value: -1, Max value: 2\n",
      "basePrice:\n",
      " Min value: 90, Max value: 1150000\n",
      "salePrice:\n",
      " Min value: 15000, Max value: 1250000\n",
      "DiscountType:\n",
      " Min value: 0, Max value: 3\n",
      "discountPersen:\n",
      " Min value: 0, Max value: 0\n",
      "discountRupiah:\n",
      " Min value: 0, Max value: 324000\n",
      "DiscExpenses:\n",
      " Min value: 0, Max value: 1\n",
      "consignment:\n",
      " Min value: 0, Max value: 0\n",
      "consignmentRp:\n",
      " Min value: 5250, Max value: 187500\n",
      "subTotal:\n",
      " Min value: -111300, Max value: 1250000\n",
      "payment:\n",
      " Min value: -83475, Max value: 1062500\n"
     ]
    }
   ],
   "source": [
    "import pandas as pd\n",
    "\n",
    "def show_min_max(df):\n",
    "    # Iterate over each column in the DataFrame\n",
    "    for column in df.columns:\n",
    "        # Check if the column contains numerical values\n",
    "        if pd.api.types.is_numeric_dtype(df[column]):\n",
    "            # Find the minimum and maximum values in the column\n",
    "            min_val = df[column].min()\n",
    "            max_val = df[column].max()\n",
    "            # Print the column name with the corresponding min and max values\n",
    "            print(f'{column}:\\n Min value: {min_val}, Max value: {max_val}')\n",
    "\n",
    "# Load the CSV file into a pandas DataFrame\n",
    "correct_file_path = 'format_data/cashierdetail_final.csv'\n",
    "df = pd.read_csv(correct_file_path, delimiter=',', encoding='utf-8')\n",
    "\n",
    "# Call the function to show the min and max values for each column\n",
    "show_min_max(df)\n"
   ]
  },
  {
   "cell_type": "code",
   "execution_count": 1,
   "metadata": {},
   "outputs": [
    {
     "name": "stdout",
     "output_type": "stream",
     "text": [
      "the number of duplicated transactions:  2380\n",
      "the number of duplicated transactions with same barcode:  noTrans    0\n",
      "Barcode    0\n",
      "count      0\n",
      "dtype: int64\n"
     ]
    }
   ],
   "source": [
    "import pandas as pd\n",
    "correct_file_path = 'format_data/cashierdetail_final.csv'\n",
    "# Load CSV file into a pandas DataFrame\n",
    "df = pd.read_csv(correct_file_path, delimiter=',', encoding='utf-8')\n",
    "\n",
    "count = df.groupby('noTrans').size()\n",
    "print('the number of duplicated transactions: ', count[count > 1].count())\n",
    "\n",
    "\n",
    "grouped = df.groupby(['noTrans', 'Barcode']).size().reset_index(name='count')\n",
    "filtered = grouped[grouped['count'] > 1]\n",
    "print('the number of duplicated transactions with same barcode: ', filtered.count())"
   ]
  },
  {
   "cell_type": "code",
   "execution_count": 15,
   "metadata": {},
   "outputs": [
    {
     "name": "stdout",
     "output_type": "stream",
     "text": [
      "\n",
      "===================\n",
      "\n",
      "the negative quantity rows\n",
      "\n",
      "              noTrans   ArticleCode     Barcode sizes  qty  basePrice  \\\n",
      "11307  01SCS19E310345  AR.BPH-RB011  20ARRB0467     L   -1     103350   \n",
      "\n",
      "       salePrice  DiscountType  discountPersen  discountRupiah  DiscExpenses  \\\n",
      "11307     159000             2               0           47700             1   \n",
      "\n",
      "       consignment  consignmentRp  subTotal  payment  \n",
      "11307            0          27825   -111300   -83475  \n",
      "\n",
      "===================\n",
      "\n",
      "\n",
      "the negative base price rows\n",
      "\n",
      "Empty DataFrame\n",
      "Columns: [noTrans, ArticleCode, Barcode, sizes, qty, basePrice, salePrice, DiscountType, discountPersen, discountRupiah, DiscExpenses, consignment, consignmentRp, subTotal, payment]\n",
      "Index: []\n",
      "\n",
      "===================\n",
      "\n",
      "\n",
      "the negative sub total rows\n",
      "\n",
      "              noTrans   ArticleCode     Barcode sizes  qty  basePrice  \\\n",
      "11307  01SCS19E310345  AR.BPH-RB011  20ARRB0467     L   -1     103350   \n",
      "\n",
      "       salePrice  DiscountType  discountPersen  discountRupiah  DiscExpenses  \\\n",
      "11307     159000             2               0           47700             1   \n",
      "\n",
      "       consignment  consignmentRp  subTotal  payment  \n",
      "11307            0          27825   -111300   -83475  \n",
      "\n",
      "===================\n",
      "\n",
      "\n",
      "the negative payment rows\n",
      "\n",
      "              noTrans   ArticleCode     Barcode sizes  qty  basePrice  \\\n",
      "11307  01SCS19E310345  AR.BPH-RB011  20ARRB0467     L   -1     103350   \n",
      "\n",
      "       salePrice  DiscountType  discountPersen  discountRupiah  DiscExpenses  \\\n",
      "11307     159000             2               0           47700             1   \n",
      "\n",
      "       consignment  consignmentRp  subTotal  payment  \n",
      "11307            0          27825   -111300   -83475  \n"
     ]
    }
   ],
   "source": [
    "# select the negative quantity rows\n",
    "df = pd.read_csv(correct_file_path, delimiter=',', encoding='utf-8')\n",
    "\n",
    "# negative quantity rows\n",
    "negative_qty_rows = df[df['qty'] < 0]\n",
    "print('\\n===================\\n')\n",
    "print('the negative quantity rows\\n')\n",
    "print(negative_qty_rows)\n",
    "\n",
    "# negative base price rows\n",
    "negative_base_price_rows = df[df['basePrice'] < 0]\n",
    "print('\\n===================\\n')\n",
    "print('\\nthe negative base price rows\\n')\n",
    "print(negative_base_price_rows)\n",
    "\n",
    "\n",
    "# # negative sales price rows\n",
    "# negative_sales_price_rows = df[df['salesPrice'] < 0]\n",
    "# print('the negative sales price rows\\n')\n",
    "# negative_sales_price_rows\n",
    "\n",
    "\n",
    "# negative sub total rows\n",
    "negative_sub_total_rows = df[df['subTotal'] < 0]\n",
    "print('\\n===================\\n')\n",
    "print('\\nthe negative sub total rows\\n')\n",
    "print(negative_sub_total_rows)\n",
    "\n",
    "# negative payment rows\n",
    "negative_payment_rows = df[df['payment'] < 0]\n",
    "print('\\n===================\\n')\n",
    "print('\\nthe negative payment rows\\n')\n",
    "print(negative_payment_rows)"
   ]
  },
  {
   "cell_type": "markdown",
   "metadata": {},
   "source": [
    "because the 11307 row has the multiple negative value so it is invaild row. we need disposal this row"
   ]
  },
  {
   "cell_type": "code",
   "execution_count": 17,
   "metadata": {},
   "outputs": [
    {
     "name": "stdout",
     "output_type": "stream",
     "text": [
      "Modified DataFrame with negative quantity rows removed is saved \n"
     ]
    }
   ],
   "source": [
    "correct_file_path = 'format_data/cashierdetail_final.csv'\n",
    "df = pd.read_csv(correct_file_path, delimiter=',', encoding='utf-8')\n",
    "\n",
    "# Select rows with negative quantity values\n",
    "negative_qty_rows = df[df['qty'] < 0]\n",
    "\n",
    "# Delete rows with negative quantity values\n",
    "df = df.drop(negative_qty_rows.index)\n",
    "\n",
    "# Save the modified DataFrame to a new CSV file\n",
    "df.to_csv(correct_file_path, index=False)\n",
    "\n",
    "print(\"Modified DataFrame with negative quantity rows removed is saved \")\n"
   ]
  },
  {
   "cell_type": "markdown",
   "metadata": {},
   "source": [
    "# the cashierdetail.csv has been cleaned"
   ]
  }
 ],
 "metadata": {
  "kernelspec": {
   "display_name": "base",
   "language": "python",
   "name": "python3"
  },
  "language_info": {
   "codemirror_mode": {
    "name": "ipython",
    "version": 3
   },
   "file_extension": ".py",
   "mimetype": "text/x-python",
   "name": "python",
   "nbconvert_exporter": "python",
   "pygments_lexer": "ipython3",
   "version": "3.9.13"
  },
  "orig_nbformat": 4
 },
 "nbformat": 4,
 "nbformat_minor": 2
}
