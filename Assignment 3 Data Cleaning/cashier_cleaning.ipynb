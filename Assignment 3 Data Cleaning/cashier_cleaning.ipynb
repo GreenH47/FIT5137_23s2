{
 "cells": [
  {
   "cell_type": "markdown",
   "metadata": {},
   "source": [
    "# data cleaning for the cashier.csv"
   ]
  },
  {
   "cell_type": "code",
   "execution_count": 2,
   "metadata": {},
   "outputs": [],
   "source": [
    "import pandas as pd\n",
    "cashier_file_path = 'rawdata/cashier.csv'\n",
    "# Load CSV file into a pandas DataFrame\n",
    "df = pd.read_csv(cashier_file_path, delimiter=',', encoding='utf-8')"
   ]
  },
  {
   "cell_type": "markdown",
   "metadata": {},
   "source": [
    "it means the cashier.csv is formatted without miskate.  \n",
    "## check depulicant value inside the table"
   ]
  },
  {
   "cell_type": "code",
   "execution_count": 4,
   "metadata": {},
   "outputs": [],
   "source": [
    "# check if every row has same number of columns\n",
    "with open(cashier_file_path, 'r') as f:\n",
    "    lines = f.readlines()\n",
    "\n",
    "# Get the number of columns in the header\n",
    "header_columns = len(lines[0].split(','))\n",
    "\n",
    "# Separate the lines into correct and incorrect lines\n",
    "correct_lines = []\n",
    "incorrect_lines = []\n",
    "incorrect_lines.append(lines[0])\n",
    "\n",
    "\n",
    "# Check each line\n",
    "for i, line in enumerate(lines):\n",
    "    num_columns = len(line.split(','))\n",
    "    if num_columns != header_columns:\n",
    "        print(f'Row {i} has  {num_columns} of columns instead of {header_columns}')\n",
    "        incorrect_lines.append(line)\n",
    "        print(line)\n",
    "    else:\n",
    "        correct_lines.append(line)\n",
    "\n",
    "# Write the correct lines to a new file\n",
    "correct_file_path = 'format_data/cashier_final.csv'\n",
    "with open(correct_file_path, 'w') as f:\n",
    "    f.writelines(correct_lines)\n",
    "\n",
    "# Write the incorrect lines to a new file\n",
    "incorrect_file_path = 'format_data/cashier-incorrect-lines.csv'\n",
    "with open(incorrect_file_path, 'w') as f:\n",
    "    f.writelines(incorrect_lines)\n",
    "\n",
    "df = pd.read_csv(correct_file_path, delimiter=',', encoding='utf-8')"
   ]
  },
  {
   "cell_type": "code",
   "execution_count": 2,
   "metadata": {},
   "outputs": [
    {
     "name": "stdout",
     "output_type": "stream",
     "text": [
      "the number of duplicated transactions:  0\n"
     ]
    }
   ],
   "source": [
    "count = df.groupby('noTrans').size()\n",
    "print('the number of duplicated transactions: ', count[count > 1].count())\n",
    "\n"
   ]
  },
  {
   "cell_type": "code",
   "execution_count": 2,
   "metadata": {},
   "outputs": [
    {
     "name": "stdout",
     "output_type": "stream",
     "text": [
      "Empty DataFrame\n",
      "Columns: [noTrans, dateTrans, typeTrans, UserID]\n",
      "Index: []\n"
     ]
    }
   ],
   "source": [
    "import pandas as pd\n",
    "\n",
    "# Load the CSV file into a pandas DataFrame\n",
    "correct_file_path = 'format_data/cashier_final.csv'\n",
    "df = pd.read_csv(correct_file_path, delimiter=',', encoding='utf-8')\n",
    "\n",
    "# Exclude 'Notes' and 'referenceTrans' columns temporarily\n",
    "excluded_columns = ['Notes', 'referenceTrans']\n",
    "df_temp = df.drop(excluded_columns, axis=1)\n",
    "\n",
    "# Check if there are any null values rows\n",
    "null_data = df_temp[df_temp.isnull().any(axis=1)]\n",
    "print(null_data)\n",
    "\n"
   ]
  },
  {
   "cell_type": "markdown",
   "metadata": {},
   "source": [
    "# so the cashier.csv is formatted and cleaned"
   ]
  },
  {
   "cell_type": "code",
   "execution_count": null,
   "metadata": {},
   "outputs": [],
   "source": [
    "#save to format_data folder\n",
    "df.to_csv('format_data/cashier_final.csv', index=False)"
   ]
  }
 ],
 "metadata": {
  "kernelspec": {
   "display_name": "base",
   "language": "python",
   "name": "python3"
  },
  "language_info": {
   "codemirror_mode": {
    "name": "ipython",
    "version": 3
   },
   "file_extension": ".py",
   "mimetype": "text/x-python",
   "name": "python",
   "nbconvert_exporter": "python",
   "pygments_lexer": "ipython3",
   "version": "3.9.13"
  },
  "orig_nbformat": 4
 },
 "nbformat": 4,
 "nbformat_minor": 2
}
