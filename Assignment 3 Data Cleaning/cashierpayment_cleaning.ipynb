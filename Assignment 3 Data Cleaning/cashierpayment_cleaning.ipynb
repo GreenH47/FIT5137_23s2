{
 "cells": [
  {
   "cell_type": "markdown",
   "metadata": {},
   "source": [
    "# data cleaning for the cashierpaymemt.csv"
   ]
  },
  {
   "cell_type": "code",
   "execution_count": 14,
   "metadata": {},
   "outputs": [],
   "source": [
    "import pandas as pd\n",
    "file_path = 'rawdata/cashierpayment.csv'\n",
    "# Load CSV file into a pandas DataFrame\n",
    "df = pd.read_csv(file_path, delimiter=',', encoding='utf-8')"
   ]
  },
  {
   "cell_type": "markdown",
   "metadata": {},
   "source": [
    "it means the cashierpayment.csv is formatted .\n",
    "## check data consistance inside the table"
   ]
  },
  {
   "cell_type": "code",
   "execution_count": 15,
   "metadata": {},
   "outputs": [
    {
     "name": "stdout",
     "output_type": "stream",
     "text": [
      "id,noTrans,paidType,cardInit,cardName,cardNumber,totalpaid,MachineName,CompanyCharge,CustomerCharge,ReffNo,ProgressiveDisc\n",
      "\n",
      "62896,01SCS19E150058,BANK TRANSFER,-,-,-,270000,-,0,0,-,0\n",
      "\n",
      "Row 932 has  11 of columns instead of 12\n",
      "61785,01SCS19E070078,CASH,-,-,-,94500,-,0,0,-\n",
      "\n",
      "Row 6767 has  11 of columns instead of 12\n",
      "68275,01SCS19E310181,CASH,-,-,-,135000,-,0,0,-\n",
      "\n",
      "Writing 8008 line in correct file\n",
      "Writing 3 line in incorrect file\n"
     ]
    }
   ],
   "source": [
    "file_path = 'rawdata/cashierpayment.csv'\n",
    "# check if every row has same number of columns\n",
    "with open(file_path, 'r') as f:\n",
    "    lines = f.readlines()\n",
    "\n",
    "# Get the number of columns in the header\n",
    "header_columns = len(lines[0].split(','))\n",
    "print(lines[0])\n",
    "print(lines[1])\n",
    "\n",
    "# Separate the lines into correct and incorrect lines\n",
    "correct_lines = []\n",
    "incorrect_lines = []\n",
    "incorrect_lines.append(lines[0])\n",
    "\n",
    "\n",
    "# Check each line\n",
    "for i, line in enumerate(lines):\n",
    "    num_columns = len(line.split(','))\n",
    "    if num_columns != header_columns:\n",
    "        print(f'Row {i} has  {num_columns} of columns instead of {header_columns}')\n",
    "        incorrect_lines.append(line)\n",
    "        print(line)\n",
    "    else:\n",
    "        correct_lines.append(line)\n",
    "\n",
    "# Write the correct lines to a new file\n",
    "correct_file_path = 'format_data/cashierpayment_final.csv'\n",
    "with open(correct_file_path, 'w') as f:\n",
    "    # print how many lines are written\n",
    "    print(f'Writing {len(correct_lines)} line in correct file')\n",
    "    f.writelines(correct_lines)\n",
    "\n",
    "# Write the incorrect lines to a new file\n",
    "incorrect_file_path = 'format_data/cashierpayment-incorrect-lines.csv'\n",
    "with open(incorrect_file_path, 'w') as f:\n",
    "    # print how many lines are written\n",
    "    print(f'Writing {len(incorrect_lines)} line in incorrect file')\n",
    "    f.writelines(incorrect_lines)\n",
    "\n"
   ]
  },
  {
   "cell_type": "markdown",
   "metadata": {},
   "source": [
    "this two line all missing one value so we just delete them.  \n",
    "## check depulicant/invalid value"
   ]
  },
  {
   "cell_type": "code",
   "execution_count": 1,
   "metadata": {},
   "outputs": [
    {
     "name": "stdout",
     "output_type": "stream",
     "text": [
      "Empty DataFrame\n",
      "Columns: [id, noTrans, paidType, cardInit, cardName, cardNumber, totalpaid, MachineName, CompanyCharge, CustomerCharge, ReffNo, ProgressiveDisc]\n",
      "Index: []\n"
     ]
    }
   ],
   "source": [
    "import pandas as pd\n",
    "# Load the CSV file into a pandas DataFrame\n",
    "correct_file_path = 'format_data/cashierpayment_final.csv'\n",
    "df = pd.read_csv(correct_file_path, delimiter=',', encoding='utf-8')\n",
    "\n",
    "# check if there are any null values rows\n",
    "null_data = df[df.isnull().any(axis=1)]\n",
    "print(null_data)"
   ]
  },
  {
   "cell_type": "code",
   "execution_count": 16,
   "metadata": {},
   "outputs": [
    {
     "name": "stdout",
     "output_type": "stream",
     "text": [
      "id:\n",
      " Min value: 60634, Max value: 68642\n",
      "totalpaid:\n",
      " Min value: -3300, Max value: 4401000\n",
      "CompanyCharge:\n",
      " Min value: 0, Max value: 0\n",
      "CustomerCharge:\n",
      " Min value: 0, Max value: 0\n",
      "ProgressiveDisc:\n",
      " Min value: 0, Max value: 0\n"
     ]
    }
   ],
   "source": [
    "import pandas as pd\n",
    "\n",
    "def show_min_max(df):\n",
    "    # Iterate over each column in the DataFrame\n",
    "    for column in df.columns:\n",
    "        # Check if the column contains numerical values\n",
    "        if pd.api.types.is_numeric_dtype(df[column]):\n",
    "            # Find the minimum and maximum values in the column\n",
    "            min_val = df[column].min()\n",
    "            max_val = df[column].max()\n",
    "            # Print the column name with the corresponding min and max values\n",
    "            print(f'{column}:\\n Min value: {min_val}, Max value: {max_val}')\n",
    "\n",
    "# Load the CSV file into a pandas DataFrame\n",
    "correct_file_path = 'format_data/cashierpayment_final.csv'\n",
    "df = pd.read_csv(correct_file_path, delimiter=',', encoding='utf-8')\n",
    "\n",
    "# Call the function to show the min and max values for each column\n",
    "show_min_max(df)\n"
   ]
  },
  {
   "cell_type": "markdown",
   "metadata": {},
   "source": [
    "## remove negative value rows\n",
    "the totalpaid column has negative value. we need remove this row."
   ]
  },
  {
   "cell_type": "code",
   "execution_count": 17,
   "metadata": {},
   "outputs": [
    {
     "name": "stdout",
     "output_type": "stream",
     "text": [
      "Rows with negative values in 'totalpaid' column:\n",
      "         id         noTrans paidType cardInit cardName cardNumber  totalpaid  \\\n",
      "6919  68439  01SCS19E310345     CASH        -        -          -      -3300   \n",
      "\n",
      "     MachineName  CompanyCharge  CustomerCharge ReffNo  ProgressiveDisc  \n",
      "6919           -              0               0      -                0  \n"
     ]
    }
   ],
   "source": [
    "import pandas as pd\n",
    "\n",
    "correct_file_path = 'format_data/cashierpayment_final.csv'\n",
    "\n",
    "# Load CSV file into a pandas DataFrame\n",
    "df = pd.read_csv(correct_file_path, delimiter=',', encoding='utf-8')\n",
    "\n",
    "# Find rows with negative values in 'totalpaid' column\n",
    "negative_rows = df[df['totalpaid'] < 0]\n",
    "\n",
    "# Print the rows with negative values\n",
    "if len(negative_rows) > 0:\n",
    "    print(\"Rows with negative values in 'totalpaid' column:\")\n",
    "    print(negative_rows)\n",
    "    # Drop rows with negative values\n",
    "    df = df[df['totalpaid'] >= 0]\n",
    "    \n",
    "    # Save the changes to the CSV file\n",
    "    df.to_csv(correct_file_path, index=False)\n",
    "\n",
    "else:\n",
    "    print('No negative values in the DataFrame')\n",
    "\n",
    "df = pd.read_csv(correct_file_path, delimiter=',', encoding='utf-8')"
   ]
  },
  {
   "cell_type": "code",
   "execution_count": 18,
   "metadata": {},
   "outputs": [
    {
     "name": "stdout",
     "output_type": "stream",
     "text": [
      "the number of duplicated id:  0\n",
      "Empty DataFrame\n",
      "Columns: [id, noTrans, paidType, cardInit, cardName, cardNumber, totalpaid, MachineName, CompanyCharge, CustomerCharge, ReffNo, ProgressiveDisc]\n",
      "Index: []\n",
      "\n",
      "===================\n",
      "\n",
      "the number of duplicated transactions:  1\n",
      "         id         noTrans paidType cardInit        cardName  \\\n",
      "552   61322  01SCS19E040128     CASH        -               -   \n",
      "7276  61323  01SCS19E040128    DEBIT      MAT  MAESTRO DEBIT    \n",
      "\n",
      "               cardNumber  totalpaid MachineName  CompanyCharge  \\\n",
      "552                     -          0           -              0   \n",
      "7276  2182-2598-7651-4092     220500        CBA               0   \n",
      "\n",
      "      CustomerCharge ReffNo  ProgressiveDisc  \n",
      "552                0      -                0  \n",
      "7276               0    114                0  \n"
     ]
    }
   ],
   "source": [
    "import pandas as pd\n",
    "correct_file_path = 'format_data/cashierpayment_final.csv'\n",
    "# Load CSV file into a pandas DataFrame\n",
    "df = pd.read_csv(correct_file_path, delimiter=',', encoding='utf-8')\n",
    "\n",
    "count = df.groupby('id').size()\n",
    "print('the number of duplicated id: ', count[count > 1].count())\n",
    "duplicate_rows_id = df[df.duplicated(['id'], keep=False)]\n",
    "print(duplicate_rows_id)\n",
    "\n",
    "print('\\n===================\\n')\n",
    "count = df.groupby('noTrans').size()\n",
    "print('the number of duplicated transactions: ', count[count > 1].count())\n",
    "duplicate_rows_noTrans = df[df.duplicated(['noTrans'], keep=False)]\n",
    "print(duplicate_rows_noTrans)\n",
    "\n"
   ]
  },
  {
   "cell_type": "markdown",
   "metadata": {},
   "source": [
    "## remove the duplicant value\n",
    "we can find that there are two rows share the same noTrans value. we need remove one row"
   ]
  },
  {
   "cell_type": "code",
   "execution_count": 19,
   "metadata": {},
   "outputs": [
    {
     "name": "stdout",
     "output_type": "stream",
     "text": [
      "The number of duplicated transactions: 1\n",
      "         id         noTrans paidType cardInit        cardName  \\\n",
      "552   61322  01SCS19E040128     CASH        -               -   \n",
      "7276  61323  01SCS19E040128    DEBIT      MAT  MAESTRO DEBIT    \n",
      "\n",
      "               cardNumber  totalpaid MachineName  CompanyCharge  \\\n",
      "552                     -          0           -              0   \n",
      "7276  2182-2598-7651-4092     220500        CBA               0   \n",
      "\n",
      "      CustomerCharge ReffNo  ProgressiveDisc  \n",
      "552                0      -                0  \n",
      "7276               0    114                0  \n"
     ]
    }
   ],
   "source": [
    "import pandas as pd\n",
    "\n",
    "correct_file_path = 'format_data/cashierpayment_final.csv'\n",
    "# Load CSV file into a pandas DataFrame\n",
    "df = pd.read_csv(correct_file_path, delimiter=',', encoding='utf-8')\n",
    "\n",
    "# Count the number of duplicated transactions\n",
    "count = df.groupby('noTrans').size()\n",
    "print('The number of duplicated transactions:', count[count > 1].count())\n",
    "duplicate_rows_noTrans = df[df.duplicated(['noTrans'], keep=False)]\n",
    "print(duplicate_rows_noTrans)\n",
    "\n",
    "\n",
    "# Remove duplicate values in the 'noTrans' column\n",
    "df_unique_noTrans = df.drop_duplicates(subset='noTrans')\n",
    "\n",
    "# Save the changes to the CSV file\n",
    "df_unique_noTrans.to_csv(correct_file_path, index=False)\n"
   ]
  },
  {
   "cell_type": "markdown",
   "metadata": {},
   "source": [
    "# the cashierpayment.csv has been cleaned"
   ]
  }
 ],
 "metadata": {
  "kernelspec": {
   "display_name": "base",
   "language": "python",
   "name": "python3"
  },
  "language_info": {
   "codemirror_mode": {
    "name": "ipython",
    "version": 3
   },
   "file_extension": ".py",
   "mimetype": "text/x-python",
   "name": "python",
   "nbconvert_exporter": "python",
   "pygments_lexer": "ipython3",
   "version": "3.9.13"
  },
  "orig_nbformat": 4
 },
 "nbformat": 4,
 "nbformat_minor": 2
}
